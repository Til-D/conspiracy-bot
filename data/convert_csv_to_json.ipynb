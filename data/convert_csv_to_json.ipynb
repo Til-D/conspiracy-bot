{
 "cells": [
  {
   "cell_type": "code",
   "execution_count": 1,
   "metadata": {},
   "outputs": [],
   "source": [
    "import pandas as pd"
   ]
  },
  {
   "cell_type": "code",
   "execution_count": 2,
   "metadata": {},
   "outputs": [
    {
     "name": "stdout",
     "output_type": "stream",
     "text": [
      "headline: Video shared on Facebook inflates risk of Moderna vaccine 40-fold\n"
     ]
    }
   ],
   "source": [
    "SOURCEFILE = 'Infobot_chat_script_formatted-study02.csv'\n",
    "data = pd.read_csv(SOURCEFILE)\n",
    "randomArticle = data.sample()\n",
    "print(\"headline: %s\" % randomArticle.iloc[0]['headline'])"
   ]
  },
  {
   "cell_type": "code",
   "execution_count": 3,
   "metadata": {},
   "outputs": [
    {
     "name": "stdout",
     "output_type": "stream",
     "text": [
      "Covid-19 Testing Fraud: Elite using Chinese tests to manufacture a pandemic\n"
     ]
    }
   ],
   "source": [
    "import csv\n",
    "import random\n",
    "import json\n",
    "\n",
    "dataSheet = [row for row in csv.DictReader(open(SOURCEFILE))]\n",
    "randomArticle = random.choice(dataSheet)\n",
    "print(randomArticle['headline'])\n",
    "# for row in input_file:\n",
    "#     print(row['headline'])\n",
    "#     reader = csv.reader(csvfile)\n",
    "#     print(len(data))\n",
    "#     for article in data:\n",
    "#         print(article)\n",
    "#     mydict = [row for rows in reader]\n",
    "#     print(mydict)\n",
    "    \n",
    "#         print(article)"
   ]
  },
  {
   "cell_type": "code",
   "execution_count": 4,
   "metadata": {},
   "outputs": [
    {
     "data": {
      "text/plain": [
       "'[{\"id\": \"1\", \"headline\": \"COVID-19 virus was not manufactured in a lab\", \"summary\": \"Coronaviruses exist in nature and can infect many different creatures. SARS-like coronaviruses are found in bats, pigs, cats, and ferrets, etc. The most widely agreed upon origin of SARS-CoV-2 is that its ancestors moved around in wild animals\\\\u2014swapping genetic features as they went along\\\\u2014before they jumped into humans. The virus may have moved directly into people from bats, or first jumped into another animal, such as a pangolin, before transitioning into humans.\", \"link\": \"\", \"image\": \"1.jpeg\"}, {\"id\": \"2\", \"headline\": \"Fact-check: Bill Gates is not responsible for Covid-19\", \"summary\": \"A false claim that the Covid-19 pandemic was planned by Bill Gates is circulating on the internet based on an old quote by Gates about pandemic readiness. There is no evidence that the pandemic was deliberately planned or that Bill Gates has any links with such a plan. Covid-19 is believed to have spread from an animal to a person much like MERS and SARS and there is no indication or publicly available evidence suggesting that the coronavirus was \\\\\"designed\\\\\".\", \"link\": \"\", \"image\": \"2.jpeg\"}, {\"id\": \"3\", \"headline\": \"Natural herd immunity is not a viable option for protection against the coronavirus\", \"summary\": \"Experts estimate that roughly 60 to 70 percent of people would need to get COVID-19 for herd immunity to be possible. Given the high mortality rate of the disease, letting it infect that many people could lead to millions of deaths. As is evidenced in two countries that tried this approach early on in the pandemic, the U.K.\\\\u2019s COVID-19 death rate is among the world\\\\u2019s highest whereas Sweden has had significantly more deaths than neighbouring countries, and its economy has suffered despite the lack of a shutdown.\", \"link\": \"\", \"image\": \"3.png\"}, {\"id\": \"4\", \"headline\": \"Instagram post wrongly claims that Covid-19 death reports are exaggerated\", \"summary\": \"An Instagram post from Robert F. Kennedy Jr., wrongly claims that the Centers for Disease Control and Prevention is reporting all pneumonia and influenza deaths as caused by Covid-19. The CDC has for years monitored deaths of pneumonia and influenza together as one measure of the flu\\\\u2019s mortality. As of an update on Jan 29, the provisional death count reported 431,619 deaths attributed to Covid-19 in the US. Kennedy\\\\u2019s post is wrong that the CDC is simply reporting \\\\u201cthem all as Covid deaths.\\\\u201d If that was true, the reported Covid-19 death count would be much higher.\", \"link\": \"\", \"image\": \"4.jpeg\"}, {\"id\": \"5\", \"headline\": \"Covid-19 vaccines don\\\\u2019t change your DNA\", \"summary\": \"Some recent news articles claim that high-profile figures like Bill Gates and Robert F. Kennedy Jr have warned that Covid-19 vaccines can change a person\\'s DNA. This is false; mRNA vaccines - the type of vaccines developed for Covid-19, deliver genetic instructions to build these proteins directly into the cells, effectively turning the body into a vaccine-making factory. However, they do not change a person\\\\u2019s DNA because all the processes involved happen in the cytoplasm, while the DNA is stored in a different part of the cell called nucleus.\", \"link\": \"\", \"image\": \"5.jpeg\"}, {\"id\": \"6\", \"headline\": \"Video shared on Facebook inflates risk of Moderna vaccine 40-fold\", \"summary\": \"Social media posts are spreading an inaccurate claim about the safety of the Moderna coronavirus vaccine. With the headline, \\\\\"Do not take the vaccine,\\\\\" a video post features James Lyons-Weiler giving this dire assessment of the Moderna vaccine trial data. He said that \\\\u201c21% of people are having serious adverse events from this vaccine\\\\\", but the actual number is 0.5% and that was the same level for the placebo group. Therefore, there is no indication the vaccine caused any of these serious events.\", \"link\": \"\", \"image\": \"6.jpeg\"}, {\"id\": \"7\", \"headline\": \"Covid-19 Vaccines Don\\\\u2019t Have Patient-Tracking Devices\", \"summary\": \"A video circulating on social media wrongly claims that vaccines for Covid-19 have a microchip that \\\\u201ctracks the location of the patient.\\\\u201d This is a false claim because such chips are designed only to know exactly that the right dose hasn\\\\u2019t expired. The chip only refers to the dose \\\\u2014 there\\\\u2019s no personal information and it cannot be injected into a patient. It\\\\u2019s also worth noting that such syringes aren\\\\u2019t currently being used for COVID-19 vaccines.\", \"link\": \"\", \"image\": \"7.jpeg\"}, {\"id\": \"8\", \"headline\": \"Video Misinterprets Fauci\\\\u2019s Comments on Covid-19 Vaccine\", \"summary\": \"A CNN interview with Dr. Anthony Fauci is being misrepresented to falsely suggest that a Covid-19 vaccine authorized in the U.S doesn\\\\u2019t \\\\u201cprotect you from covid.\\\\u201d The vaccine does protect against Covid -19, but it may not prevent someone from contracting the virus. While for most individuals, the coronavirus symptoms are relatively mild, in some patients, particularly those who are older or who have certain health conditions, Covid-19 can be deadly. Fauci was referring to the ability of the vaccine to prevent such a severe case of Covid-19.\", \"link\": \"\", \"image\": \"8.jpeg\"}, {\"id\": \"9\", \"headline\": \"French Nobel prize winner: \\\\u2018Covid-19 made in lab\\\\u2019\", \"summary\": \"Professor Luc Montagnier has accused biologists of having created SARS-CoV-2 - the virus that causes Covid-19 - in a lab. The scientist, who won the Nobel Prize in 2008 for his work on HIV said in an interview this week that the virus has come out of a laboratory in Wuhan, which has been specialising in these types of coronaviruses since the beginning of the 2000s. He also added that molecular biologists have inserted DNA sequences from HIV into a coronavirus, probably as part of their work to find a vaccine against AIDS.\", \"link\": \"\", \"image\": \"9.jpeg\"}, {\"id\": \"10\", \"headline\": \"Covid-19 Testing Fraud: Elite using Chinese tests to manufacture a pandemic\", \"summary\": \"The Covid-19 pandemic has shown us how easy it is to manufacture panic and control entire populations through deceptive means. The false appearance of a lethal pandemic has been manufactured by using a test that was developed based on a genetic sequence published by Chinese scientists. PCR tests cannot distinguish between \\\\\"live\\\\\" viruses and noninfectious viral particles and therefore cannot be used as a diagnostic tool. The flaws of Covid testing have been capitalized upon to incite fear in order to benefit the Great Reset agenda developed by a technocratic elite.\", \"link\": \"\", \"image\": \"10.jpeg\"}, {\"id\": \"11\", \"headline\": \"Peer reviewed article warns against bodily control devices inside Covid vaccine\", \"summary\": \"An article on how the pandemic facilitated a financial, tech, biopharmaceutical and military-intelligence push for centralized, technocratic control has been accepted by the International Journal of Vaccine Theory, Practice and Research. According to the article, \\\\u201cthe evidence suggests that Trojan horse coronavirus vaccines may challenge bodily integrity and informed consent in entirely new ways, transporting invasive technologies into people\\'s brains and bodies\\\\u201d and that \\\\u201cthree increasingly interwoven sectors (Big Finance, Big Tech, and Big Pharma) are reaping rewards from Covid-19.\\\\\"\", \"link\": \"\", \"image\": \"11.jpeg\"}, {\"id\": \"12\", \"headline\": \"Top Medical Inventor: Covid mRNA \\\\u201cVaccine\\\\u201d Not A Vaccine\", \"summary\": \"Medical inventor and author David Martin proves that the Pfizer and Moderna vaccines are not vaccines by medical definition and that Big Pharma is forcing these untested gene therapies onto us. He states that vaccines are defined as \\\\u2018a product that stimulates a person\\\\u2019s immune system to produce immunity to a specific disease, protecting the person from that disease\\\\u2019. Since the Moderna and Pfizer \\\\u201calleged vaccine\\\\u201d trials have explicitly acknowledged that their gene therapy technology has no impact on viral infection or transmission, their products cannot be considered vaccines.\", \"link\": \"\", \"image\": \"12.jpeg\"}]'"
      ]
     },
     "execution_count": 4,
     "metadata": {},
     "output_type": "execute_result"
    }
   ],
   "source": [
    "json.dumps(dataSheet)"
   ]
  },
  {
   "cell_type": "code",
   "execution_count": null,
   "metadata": {},
   "outputs": [],
   "source": []
  }
 ],
 "metadata": {
  "kernelspec": {
   "display_name": "Python 3",
   "language": "python",
   "name": "python3"
  },
  "language_info": {
   "codemirror_mode": {
    "name": "ipython",
    "version": 3
   },
   "file_extension": ".py",
   "mimetype": "text/x-python",
   "name": "python",
   "nbconvert_exporter": "python",
   "pygments_lexer": "ipython3",
   "version": "3.7.4"
  }
 },
 "nbformat": 4,
 "nbformat_minor": 4
}
